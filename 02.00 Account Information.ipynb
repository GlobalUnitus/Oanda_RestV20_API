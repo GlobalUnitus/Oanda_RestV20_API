{
 "cells": [
  {
   "cell_type": "markdown",
   "metadata": {},
   "source": [
    "<!--NAVIGATION-->\n",
    "< [Setting Up](01.01 Setting Up.ipynb) | [Contents](Index.ipynb) | [Instrument](03.00 Instrument.ipynb) >"
   ]
  },
  {
   "cell_type": "markdown",
   "metadata": {},
   "source": [
    "# Account Information"
   ]
  },
  {
   "cell_type": "markdown",
   "metadata": {},
   "source": [
    "[OANDA REST-V20 API Wrapper Doc on Account](http://oanda-api-v20.readthedocs.io/en/latest/endpoints/accounts.html)\n",
    "\n",
    "[OANDA API Getting Started](http://developer.oanda.com/rest-live-v20/introduction/)\n",
    "\n",
    "[OANDA API Account](http://developer.oanda.com/rest-live-v20/account-ep/)"
   ]
  },
  {
   "cell_type": "markdown",
   "metadata": {},
   "source": [
    "## Account Details"
   ]
  },
  {
   "cell_type": "code",
   "execution_count": 1,
   "metadata": {},
   "outputs": [],
   "source": [
    "import pandas as pd\n",
    "import oandapyV20\n",
    "from oandapyV20 import API\n",
    "import oandapyV20.endpoints.accounts as accounts\n",
    "import configparser\n"
   ]
  },
  {
   "cell_type": "code",
   "execution_count": 2,
   "metadata": {},
   "outputs": [
    {
     "name": "stdout",
     "output_type": "stream",
     "text": [
      "be480d37829e4afeeac3652924aa3538-76e473a1a3e7b797a6ce57ea20b8be16\n"
     ]
    }
   ],
   "source": [
    "config = configparser.ConfigParser()\n",
    "config.read('../config/config_v20.ini')\n",
    "accountID = config['oanda']['account_id']\n",
    "access_token = config['oanda']['api_key']\n",
    "print(access_token)\n"
   ]
  },
  {
   "cell_type": "code",
   "execution_count": null,
   "metadata": {},
   "outputs": [],
   "source": [
    "# accountID = \"101-003-5120019-001\"\n",
    "# access_token = \"57a93815fcfbfbe19baea799bc144c15-f18df92fa9762978909559704fdfff60\"\n",
    "# api = API(access_token=access_token)"
   ]
  },
  {
   "cell_type": "code",
   "execution_count": 3,
   "metadata": {},
   "outputs": [],
   "source": [
    "client = oandapyV20.API(access_token=access_token)\n",
    "r = accounts.AccountDetails(accountID)"
   ]
  },
  {
   "cell_type": "code",
   "execution_count": 4,
   "metadata": {},
   "outputs": [
    {
     "data": {
      "text/plain": [
       "{'account': {'guaranteedStopLossOrderMode': 'DISABLED',\n",
       "  'hedgingEnabled': False,\n",
       "  'id': '101-011-10790054-001',\n",
       "  'createdTime': '2019-03-18T08:21:32.494457843Z',\n",
       "  'currency': 'AUD',\n",
       "  'createdByUserID': 10790054,\n",
       "  'alias': 'Primary',\n",
       "  'marginRate': '0.02',\n",
       "  'lastTransactionID': '3',\n",
       "  'balance': '100000.0000',\n",
       "  'openTradeCount': 0,\n",
       "  'openPositionCount': 0,\n",
       "  'pendingOrderCount': 0,\n",
       "  'pl': '0.0000',\n",
       "  'resettablePL': '0.0000',\n",
       "  'resettablePLTime': '0',\n",
       "  'financing': '0.0000',\n",
       "  'commission': '0.0000',\n",
       "  'guaranteedExecutionFees': '0.0000',\n",
       "  'orders': [],\n",
       "  'positions': [],\n",
       "  'trades': [],\n",
       "  'unrealizedPL': '0.0000',\n",
       "  'NAV': '100000.0000',\n",
       "  'marginUsed': '0.0000',\n",
       "  'marginAvailable': '100000.0000',\n",
       "  'positionValue': '0.0000',\n",
       "  'marginCloseoutUnrealizedPL': '0.0000',\n",
       "  'marginCloseoutNAV': '100000.0000',\n",
       "  'marginCloseoutMarginUsed': '0.0000',\n",
       "  'marginCloseoutPositionValue': '0.0000',\n",
       "  'marginCloseoutPercent': '0.00000',\n",
       "  'withdrawalLimit': '100000.0000',\n",
       "  'marginCallMarginUsed': '0.0000',\n",
       "  'marginCallPercent': '0.00000'},\n",
       " 'lastTransactionID': '3'}"
      ]
     },
     "execution_count": 4,
     "metadata": {},
     "output_type": "execute_result"
    }
   ],
   "source": [
    "client.request(r)"
   ]
  },
  {
   "cell_type": "code",
   "execution_count": 5,
   "metadata": {},
   "outputs": [
    {
     "name": "stdout",
     "output_type": "stream",
     "text": [
      "{'account': {'guaranteedStopLossOrderMode': 'DISABLED', 'hedgingEnabled': False, 'id': '101-011-10790054-001', 'createdTime': '2019-03-18T08:21:32.494457843Z', 'currency': 'AUD', 'createdByUserID': 10790054, 'alias': 'Primary', 'marginRate': '0.02', 'lastTransactionID': '3', 'balance': '100000.0000', 'openTradeCount': 0, 'openPositionCount': 0, 'pendingOrderCount': 0, 'pl': '0.0000', 'resettablePL': '0.0000', 'resettablePLTime': '0', 'financing': '0.0000', 'commission': '0.0000', 'guaranteedExecutionFees': '0.0000', 'orders': [], 'positions': [], 'trades': [], 'unrealizedPL': '0.0000', 'NAV': '100000.0000', 'marginUsed': '0.0000', 'marginAvailable': '100000.0000', 'positionValue': '0.0000', 'marginCloseoutUnrealizedPL': '0.0000', 'marginCloseoutNAV': '100000.0000', 'marginCloseoutMarginUsed': '0.0000', 'marginCloseoutPositionValue': '0.0000', 'marginCloseoutPercent': '0.00000', 'withdrawalLimit': '100000.0000', 'marginCallMarginUsed': '0.0000', 'marginCallPercent': '0.00000'}, 'lastTransactionID': '3'}\n"
     ]
    }
   ],
   "source": [
    "print(r.response)"
   ]
  },
  {
   "cell_type": "code",
   "execution_count": 6,
   "metadata": {},
   "outputs": [
    {
     "data": {
      "text/plain": [
       "guaranteedStopLossOrderMode                          DISABLED\n",
       "hedgingEnabled                                          False\n",
       "id                                       101-011-10790054-001\n",
       "createdTime                    2019-03-18T08:21:32.494457843Z\n",
       "currency                                                  AUD\n",
       "createdByUserID                                      10790054\n",
       "alias                                                 Primary\n",
       "marginRate                                               0.02\n",
       "lastTransactionID                                           3\n",
       "balance                                           100000.0000\n",
       "openTradeCount                                              0\n",
       "openPositionCount                                           0\n",
       "pendingOrderCount                                           0\n",
       "pl                                                     0.0000\n",
       "resettablePL                                           0.0000\n",
       "resettablePLTime                                            0\n",
       "financing                                              0.0000\n",
       "commission                                             0.0000\n",
       "guaranteedExecutionFees                                0.0000\n",
       "orders                                                     []\n",
       "positions                                                  []\n",
       "trades                                                     []\n",
       "unrealizedPL                                           0.0000\n",
       "NAV                                               100000.0000\n",
       "marginUsed                                             0.0000\n",
       "marginAvailable                                   100000.0000\n",
       "positionValue                                          0.0000\n",
       "marginCloseoutUnrealizedPL                             0.0000\n",
       "marginCloseoutNAV                                 100000.0000\n",
       "marginCloseoutMarginUsed                               0.0000\n",
       "marginCloseoutPositionValue                            0.0000\n",
       "marginCloseoutPercent                                 0.00000\n",
       "withdrawalLimit                                   100000.0000\n",
       "marginCallMarginUsed                                   0.0000\n",
       "marginCallPercent                                     0.00000\n",
       "dtype: object"
      ]
     },
     "execution_count": 6,
     "metadata": {},
     "output_type": "execute_result"
    }
   ],
   "source": [
    "pd.Series(r.response['account'])"
   ]
  },
  {
   "cell_type": "markdown",
   "metadata": {},
   "source": [
    "## Account List"
   ]
  },
  {
   "cell_type": "code",
   "execution_count": 10,
   "metadata": {},
   "outputs": [],
   "source": [
    "r = accounts.AccountList()"
   ]
  },
  {
   "cell_type": "code",
   "execution_count": 11,
   "metadata": {},
   "outputs": [
    {
     "data": {
      "text/plain": [
       "{'accounts': [{'id': '101-011-10790054-001', 'tags': []}]}"
      ]
     },
     "execution_count": 11,
     "metadata": {},
     "output_type": "execute_result"
    }
   ],
   "source": [
    "client.request(r)"
   ]
  },
  {
   "cell_type": "code",
   "execution_count": 12,
   "metadata": {},
   "outputs": [
    {
     "name": "stdout",
     "output_type": "stream",
     "text": [
      "{'accounts': [{'id': '101-011-10790054-001', 'tags': []}]}\n"
     ]
    }
   ],
   "source": [
    "print(r.response)"
   ]
  },
  {
   "cell_type": "markdown",
   "metadata": {},
   "source": [
    "## Account Summary"
   ]
  },
  {
   "cell_type": "code",
   "execution_count": 19,
   "metadata": {},
   "outputs": [],
   "source": [
    "r = accounts.AccountSummary(accountID)"
   ]
  },
  {
   "cell_type": "code",
   "execution_count": 20,
   "metadata": {},
   "outputs": [
    {
     "data": {
      "text/plain": [
       "{'account': {'guaranteedStopLossOrderMode': 'DISABLED',\n",
       "  'hedgingEnabled': False,\n",
       "  'id': '101-011-10790054-001',\n",
       "  'createdTime': '2019-03-18T08:21:32.494457843Z',\n",
       "  'currency': 'AUD',\n",
       "  'createdByUserID': 10790054,\n",
       "  'alias': 'Primary',\n",
       "  'marginRate': '0.02',\n",
       "  'lastTransactionID': '3',\n",
       "  'balance': '100000.0000',\n",
       "  'openTradeCount': 0,\n",
       "  'openPositionCount': 0,\n",
       "  'pendingOrderCount': 0,\n",
       "  'pl': '0.0000',\n",
       "  'resettablePL': '0.0000',\n",
       "  'resettablePLTime': '0',\n",
       "  'financing': '0.0000',\n",
       "  'commission': '0.0000',\n",
       "  'guaranteedExecutionFees': '0.0000',\n",
       "  'unrealizedPL': '0.0000',\n",
       "  'NAV': '100000.0000',\n",
       "  'marginUsed': '0.0000',\n",
       "  'marginAvailable': '100000.0000',\n",
       "  'positionValue': '0.0000',\n",
       "  'marginCloseoutUnrealizedPL': '0.0000',\n",
       "  'marginCloseoutNAV': '100000.0000',\n",
       "  'marginCloseoutMarginUsed': '0.0000',\n",
       "  'marginCloseoutPositionValue': '0.0000',\n",
       "  'marginCloseoutPercent': '0.00000',\n",
       "  'withdrawalLimit': '100000.0000',\n",
       "  'marginCallMarginUsed': '0.0000',\n",
       "  'marginCallPercent': '0.00000'},\n",
       " 'lastTransactionID': '3'}"
      ]
     },
     "execution_count": 20,
     "metadata": {},
     "output_type": "execute_result"
    }
   ],
   "source": [
    "client.request(r)"
   ]
  },
  {
   "cell_type": "code",
   "execution_count": 21,
   "metadata": {},
   "outputs": [
    {
     "name": "stdout",
     "output_type": "stream",
     "text": [
      "{'account': {'guaranteedStopLossOrderMode': 'DISABLED', 'hedgingEnabled': False, 'id': '101-011-10790054-001', 'createdTime': '2019-03-18T08:21:32.494457843Z', 'currency': 'AUD', 'createdByUserID': 10790054, 'alias': 'Primary', 'marginRate': '0.02', 'lastTransactionID': '3', 'balance': '100000.0000', 'openTradeCount': 0, 'openPositionCount': 0, 'pendingOrderCount': 0, 'pl': '0.0000', 'resettablePL': '0.0000', 'resettablePLTime': '0', 'financing': '0.0000', 'commission': '0.0000', 'guaranteedExecutionFees': '0.0000', 'unrealizedPL': '0.0000', 'NAV': '100000.0000', 'marginUsed': '0.0000', 'marginAvailable': '100000.0000', 'positionValue': '0.0000', 'marginCloseoutUnrealizedPL': '0.0000', 'marginCloseoutNAV': '100000.0000', 'marginCloseoutMarginUsed': '0.0000', 'marginCloseoutPositionValue': '0.0000', 'marginCloseoutPercent': '0.00000', 'withdrawalLimit': '100000.0000', 'marginCallMarginUsed': '0.0000', 'marginCallPercent': '0.00000'}, 'lastTransactionID': '3'}\n"
     ]
    }
   ],
   "source": [
    "print(r.response)"
   ]
  },
  {
   "cell_type": "code",
   "execution_count": 22,
   "metadata": {
    "scrolled": false
   },
   "outputs": [
    {
     "data": {
      "text/plain": [
       "guaranteedStopLossOrderMode                          DISABLED\n",
       "hedgingEnabled                                          False\n",
       "id                                       101-011-10790054-001\n",
       "createdTime                    2019-03-18T08:21:32.494457843Z\n",
       "currency                                                  AUD\n",
       "createdByUserID                                      10790054\n",
       "alias                                                 Primary\n",
       "marginRate                                               0.02\n",
       "lastTransactionID                                           3\n",
       "balance                                           100000.0000\n",
       "openTradeCount                                              0\n",
       "openPositionCount                                           0\n",
       "pendingOrderCount                                           0\n",
       "pl                                                     0.0000\n",
       "resettablePL                                           0.0000\n",
       "resettablePLTime                                            0\n",
       "financing                                              0.0000\n",
       "commission                                             0.0000\n",
       "guaranteedExecutionFees                                0.0000\n",
       "unrealizedPL                                           0.0000\n",
       "NAV                                               100000.0000\n",
       "marginUsed                                             0.0000\n",
       "marginAvailable                                   100000.0000\n",
       "positionValue                                          0.0000\n",
       "marginCloseoutUnrealizedPL                             0.0000\n",
       "marginCloseoutNAV                                 100000.0000\n",
       "marginCloseoutMarginUsed                               0.0000\n",
       "marginCloseoutPositionValue                            0.0000\n",
       "marginCloseoutPercent                                 0.00000\n",
       "withdrawalLimit                                   100000.0000\n",
       "marginCallMarginUsed                                   0.0000\n",
       "marginCallPercent                                     0.00000\n",
       "dtype: object"
      ]
     },
     "execution_count": 22,
     "metadata": {},
     "output_type": "execute_result"
    }
   ],
   "source": [
    "pd.Series(r.response['account'])"
   ]
  },
  {
   "cell_type": "markdown",
   "metadata": {},
   "source": [
    "## Account Instruments"
   ]
  },
  {
   "cell_type": "code",
   "execution_count": 23,
   "metadata": {},
   "outputs": [],
   "source": [
    "params = {\"instruments\" : \"EUR_USD\"}\n",
    "r = accounts.AccountInstruments(accountID=accountID, params=params)"
   ]
  },
  {
   "cell_type": "code",
   "execution_count": 24,
   "metadata": {
    "scrolled": false
   },
   "outputs": [
    {
     "data": {
      "text/plain": [
       "{'instruments': [{'name': 'EUR_USD',\n",
       "   'type': 'CURRENCY',\n",
       "   'displayName': 'EUR/USD',\n",
       "   'pipLocation': -4,\n",
       "   'displayPrecision': 5,\n",
       "   'tradeUnitsPrecision': 0,\n",
       "   'minimumTradeSize': '1',\n",
       "   'maximumTrailingStopDistance': '1.00000',\n",
       "   'minimumTrailingStopDistance': '0.00050',\n",
       "   'maximumPositionSize': '0',\n",
       "   'maximumOrderUnits': '100000000',\n",
       "   'marginRate': '0.02',\n",
       "   'tags': [{'type': 'ASSET_CLASS', 'name': 'CURRENCY'}]}],\n",
       " 'lastTransactionID': '3'}"
      ]
     },
     "execution_count": 24,
     "metadata": {},
     "output_type": "execute_result"
    }
   ],
   "source": [
    "client.request(r)"
   ]
  },
  {
   "cell_type": "code",
   "execution_count": 25,
   "metadata": {},
   "outputs": [
    {
     "data": {
      "text/html": [
       "<div>\n",
       "<style scoped>\n",
       "    .dataframe tbody tr th:only-of-type {\n",
       "        vertical-align: middle;\n",
       "    }\n",
       "\n",
       "    .dataframe tbody tr th {\n",
       "        vertical-align: top;\n",
       "    }\n",
       "\n",
       "    .dataframe thead th {\n",
       "        text-align: right;\n",
       "    }\n",
       "</style>\n",
       "<table border=\"1\" class=\"dataframe\">\n",
       "  <thead>\n",
       "    <tr style=\"text-align: right;\">\n",
       "      <th></th>\n",
       "      <th>displayName</th>\n",
       "      <th>displayPrecision</th>\n",
       "      <th>marginRate</th>\n",
       "      <th>maximumOrderUnits</th>\n",
       "      <th>maximumPositionSize</th>\n",
       "      <th>maximumTrailingStopDistance</th>\n",
       "      <th>minimumTradeSize</th>\n",
       "      <th>minimumTrailingStopDistance</th>\n",
       "      <th>name</th>\n",
       "      <th>pipLocation</th>\n",
       "      <th>tags</th>\n",
       "      <th>tradeUnitsPrecision</th>\n",
       "      <th>type</th>\n",
       "    </tr>\n",
       "  </thead>\n",
       "  <tbody>\n",
       "    <tr>\n",
       "      <th>0</th>\n",
       "      <td>EUR/USD</td>\n",
       "      <td>5</td>\n",
       "      <td>0.02</td>\n",
       "      <td>100000000</td>\n",
       "      <td>0</td>\n",
       "      <td>1.00000</td>\n",
       "      <td>1</td>\n",
       "      <td>0.00050</td>\n",
       "      <td>EUR_USD</td>\n",
       "      <td>-4</td>\n",
       "      <td>[{'type': 'ASSET_CLASS', 'name': 'CURRENCY'}]</td>\n",
       "      <td>0</td>\n",
       "      <td>CURRENCY</td>\n",
       "    </tr>\n",
       "  </tbody>\n",
       "</table>\n",
       "</div>"
      ],
      "text/plain": [
       "  displayName  displayPrecision marginRate maximumOrderUnits  \\\n",
       "0     EUR/USD                 5       0.02         100000000   \n",
       "\n",
       "  maximumPositionSize maximumTrailingStopDistance minimumTradeSize  \\\n",
       "0                   0                     1.00000                1   \n",
       "\n",
       "  minimumTrailingStopDistance     name  pipLocation  \\\n",
       "0                     0.00050  EUR_USD           -4   \n",
       "\n",
       "                                            tags  tradeUnitsPrecision  \\\n",
       "0  [{'type': 'ASSET_CLASS', 'name': 'CURRENCY'}]                    0   \n",
       "\n",
       "       type  \n",
       "0  CURRENCY  "
      ]
     },
     "execution_count": 25,
     "metadata": {},
     "output_type": "execute_result"
    }
   ],
   "source": [
    "pd.DataFrame(r.response['instruments'])"
   ]
  },
  {
   "cell_type": "markdown",
   "metadata": {},
   "source": [
    "<!--NAVIGATION-->\n",
    "< [Setting Up](01.01 Setting Up.ipynb) | [Contents](Index.ipynb) | [Instrument](03.00 Instrument.ipynb) >"
   ]
  },
  {
   "cell_type": "markdown",
   "metadata": {},
   "source": [
    "***"
   ]
  }
 ],
 "metadata": {
  "anaconda-cloud": {},
  "kernelspec": {
   "display_name": "Python 3",
   "language": "python",
   "name": "python3"
  },
  "language_info": {
   "codemirror_mode": {
    "name": "ipython",
    "version": 3
   },
   "file_extension": ".py",
   "mimetype": "text/x-python",
   "name": "python",
   "nbconvert_exporter": "python",
   "pygments_lexer": "ipython3",
   "version": "3.7.1"
  }
 },
 "nbformat": 4,
 "nbformat_minor": 1
}
